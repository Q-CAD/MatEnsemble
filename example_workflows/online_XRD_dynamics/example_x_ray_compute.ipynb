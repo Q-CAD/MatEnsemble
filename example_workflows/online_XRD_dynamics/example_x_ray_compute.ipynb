{
 "cells": [
  {
   "cell_type": "code",
   "execution_count": 1,
   "id": "a0cabc87",
   "metadata": {},
   "outputs": [
    {
     "name": "stdout",
     "output_type": "stream",
     "text": [
      "/gpfs/wolf2/cades/mat269/world-shared/test_MatEnsemble_build/matensemble_env/bin/python\n"
     ]
    }
   ],
   "source": [
    "!which python"
   ]
  },
  {
   "cell_type": "code",
   "execution_count": null,
   "id": "a8a38eb0",
   "metadata": {},
   "outputs": [],
   "source": [
    "from matensemble.dynopro.task_lib.analysis_registry import AnalysisRegistry\n",
    "from ovito.io.pymatgen import ovito_to_pymatgen\n",
    "\n",
    "@AnalysisRegistry.register('get_xrd')\n",
    "def get_xrd_pattern(traj, params):\n",
    "\n",
    "        struc = ovito_to_pymatgen(traj.data)\n",
    "\n",
    "        from pymatgen.analysis.diffraction.xrd import XRDCalculator\n",
    "        xrd_calc = XRDCalculator()\n",
    "        pattern = xrd_calc.get_pattern(struc)\n",
    "\n",
    "        pattern_dict = pattern.as_dict()\n",
    "        pattern_dict['timestep'] = traj.timestep\n",
    "        pattern_dict['2_theta'] = pattern['x']\n",
    "        pattern_dict['Intensities'] = pattern['y']\n",
    "        \n",
    "\t\t# Save results\n",
    "        with open(f'XRD_{traj.timestep}', 'w') as file:\n",
    "            file.write(f'time-step result\\n')\n",
    "            file.write(pattern_dict)\n",
    "\n",
    "        return"
   ]
  },
  {
   "cell_type": "code",
   "execution_count": null,
   "id": "b0a33eba",
   "metadata": {},
   "outputs": [],
   "source": []
  }
 ],
 "metadata": {
  "kernelspec": {
   "display_name": "Python 3",
   "language": "python",
   "name": "python3"
  },
  "language_info": {
   "codemirror_mode": {
    "name": "ipython",
    "version": 3
   },
   "file_extension": ".py",
   "mimetype": "text/x-python",
   "name": "python",
   "nbconvert_exporter": "python",
   "pygments_lexer": "ipython3",
   "version": "3.11.12"
  }
 },
 "nbformat": 4,
 "nbformat_minor": 5
}
